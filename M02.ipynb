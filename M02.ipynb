{
 "cells": [
  {
   "cell_type": "code",
   "execution_count": 1,
   "id": "80f18277-c6e4-4356-a474-703a51bf9b45",
   "metadata": {},
   "outputs": [
    {
     "name": "stdout",
     "output_type": "stream",
     "text": [
      "too low\n"
     ]
    }
   ],
   "source": [
    "#This program will compare a secret number and a guess, then tell you if the guess is too low, too high, or just right.\n",
    "\n",
    "secret = 8\n",
    "guess = 4\n",
    "\n",
    "if guess < secret: \n",
    "    print(\"too low\")\n",
    "elif guess > secret:\n",
    "    print(\"too high\")\n",
    "else:\n",
    "    print(\"just right\")"
   ]
  },
  {
   "cell_type": "code",
   "execution_count": 11,
   "id": "58e3854d-b9a3-483f-bdf9-90ac8bc9cff2",
   "metadata": {},
   "outputs": [
    {
     "name": "stdout",
     "output_type": "stream",
     "text": [
      "this matches a pumpkin.\n"
     ]
    }
   ],
   "source": [
    "#This program checks the values of small and green to see if they match a cherry, pea, watermelon, or pumpkin based on size and color.\n",
    "\n",
    "small = True\n",
    "green = False\n",
    "\n",
    "if small and green:\n",
    "    print(\"This matches a pea.\")\n",
    "elif not small and not green:\n",
    "    print(\"This matches a cherry.\")\n",
    "elif not small and green:\n",
    "    print(\"This matches a watermelon.\")\n",
    "elif small and not green:\n",
    "    print(\"this matches a pumpkin.\")\n",
    "else:\n",
    "    print(\"No match found.\") \n",
    "    "
   ]
  },
  {
   "cell_type": "code",
   "execution_count": 13,
   "id": "179fd293-ca9a-4455-aeb5-bb46a4bc835e",
   "metadata": {},
   "outputs": [
    {
     "name": "stdout",
     "output_type": "stream",
     "text": [
      "3\n",
      "2\n",
      "1\n",
      "0\n"
     ]
    }
   ],
   "source": [
    "#This program uses a for loop to print the values 3, 2, 1, and 0 as a list.\n",
    "\n",
    "values = [3, 2, 1, 0]\n",
    "\n",
    "for value in values:\n",
    "    print(value) "
   ]
  },
  {
   "cell_type": "code",
   "execution_count": 19,
   "id": "3818f289-ac8d-470a-bafd-4b11b27cfad0",
   "metadata": {},
   "outputs": [
    {
     "name": "stdout",
     "output_type": "stream",
     "text": [
      "too low\n",
      "too low\n",
      "too low\n",
      "too low\n",
      "too low\n",
      "too low\n",
      "found it!\n"
     ]
    }
   ],
   "source": [
    "#This program uses a while loop to compare number with guess_me. It prints whether the number is less than, equal to, or greater than.\n",
    "\n",
    "guess_me = 7\n",
    "number = 1\n",
    "\n",
    "while True:\n",
    "    if number < guess_me:\n",
    "        print(\"too low\")\n",
    "    elif number == guess_me:\n",
    "        print(\"found it!\")\n",
    "        break \n",
    "    else:\n",
    "        print(\"oops\")\n",
    "        break \n",
    "    number += 1  \n"
   ]
  },
  {
   "cell_type": "code",
   "execution_count": 23,
   "id": "1346e4a5-8a99-4c81-ac44-f979b3115240",
   "metadata": {},
   "outputs": [
    {
     "name": "stdout",
     "output_type": "stream",
     "text": [
      "too low\n",
      "too low\n",
      "too low\n",
      "too low\n",
      "too low\n",
      "found it!\n"
     ]
    }
   ],
   "source": [
    "#This program runs through numbers from 0 to 9 and prints whether the number is too low, too high, or equal to the number 5.\n",
    "\n",
    "guess_me = 5\n",
    "\n",
    "for number in range(10):\n",
    "    if number < guess_me:\n",
    "        print(\"too low\")\n",
    "    elif number == guess_me:\n",
    "        print(\"found it!\")\n",
    "        break\n",
    "    else:\n",
    "        print(\"oops\")\n",
    "        break"
   ]
  },
  {
   "cell_type": "code",
   "execution_count": null,
   "id": "15e864e7-3166-4ce8-8dd5-f59c06b8bb4f",
   "metadata": {},
   "outputs": [],
   "source": []
  }
 ],
 "metadata": {
  "kernelspec": {
   "display_name": "Python [conda env:base] *",
   "language": "python",
   "name": "conda-base-py"
  },
  "language_info": {
   "codemirror_mode": {
    "name": "ipython",
    "version": 3
   },
   "file_extension": ".py",
   "mimetype": "text/x-python",
   "name": "python",
   "nbconvert_exporter": "python",
   "pygments_lexer": "ipython3",
   "version": "3.12.7"
  }
 },
 "nbformat": 4,
 "nbformat_minor": 5
}
