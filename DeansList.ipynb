{
 "cells": [
  {
   "cell_type": "code",
   "execution_count": null,
   "id": "15c7c3d7-d6ee-4844-ad6b-375f9fbffa4d",
   "metadata": {},
   "outputs": [
    {
     "name": "stdin",
     "output_type": "stream",
     "text": [
      "Enter student's last name (or 'ZZZ' to quit):  Tanna West\n",
      "Enter student's first name:  Tanna\n",
      "Enter student's GPA:  3.75\n"
     ]
    },
    {
     "name": "stdout",
     "output_type": "stream",
     "text": [
      "Tanna Tanna West has made the Dean's List!\n"
     ]
    },
    {
     "name": "stdin",
     "output_type": "stream",
     "text": [
      "Enter student's last name (or 'ZZZ' to quit):  Ware\n",
      "Enter student's first name:  Grey\n",
      "Enter student's GPA:  3.77\n"
     ]
    },
    {
     "name": "stdout",
     "output_type": "stream",
     "text": [
      "Grey Ware has made the Dean's List!\n"
     ]
    },
    {
     "name": "stdin",
     "output_type": "stream",
     "text": [
      "Enter student's last name (or 'ZZZ' to quit):  Ware\n",
      "Enter student's first name:  Leaf\n",
      "Enter student's GPA:  2.65\n"
     ]
    },
    {
     "name": "stdout",
     "output_type": "stream",
     "text": [
      "Leaf Ware did not qualify for the Dean's List or Honor Roll.\n"
     ]
    },
    {
     "name": "stdin",
     "output_type": "stream",
     "text": [
      "Enter student's last name (or 'ZZZ' to quit):  Ware\n",
      "Enter student's first name:  Tyson\n",
      "Enter student's GPA:  2.9\n"
     ]
    },
    {
     "name": "stdout",
     "output_type": "stream",
     "text": [
      "Tyson Ware did not qualify for the Dean's List or Honor Roll.\n"
     ]
    },
    {
     "name": "stdin",
     "output_type": "stream",
     "text": [
      "Enter student's last name (or 'ZZZ' to quit):  West\n",
      "Enter student's first name:  Delilah\n",
      "Enter student's GPA:  1.1\n"
     ]
    },
    {
     "name": "stdout",
     "output_type": "stream",
     "text": [
      "Delilah West did not qualify for the Dean's List or Honor Roll.\n"
     ]
    }
   ],
   "source": [
    "# Tanna\n",
    "# File Name: Deans List\n",
    "# This program accepts student names and GPAs and checks if the student qualifies for the Dean's List or the Honor Roll.\n",
    "\n",
    "while True:\n",
    "    last_name = input(\"Enter student's last name (or 'ZZZ' to quit): \")\n",
    "    \n",
    "    if last_name == \"ZZZ\":\n",
    "        print(\"Exiting program.\")\n",
    "        break\n",
    "    \n",
    "    first_name = input(\"Enter student's first name: \")\n",
    "\n",
    "    while True:\n",
    "        try:\n",
    "            gpa = float(input(\"Enter student's GPA: \"))\n",
    "            if gpa < 0.0 or gpa > 4.0:\n",
    "                print(\"GPA must be between 0.0 and 4.0. Please try again.\")\n",
    "            else:\n",
    "                break\n",
    "        except ValueError:\n",
    "            print(\"Invalid input. Please enter a valid GPA (a number).\")\n",
    "    \n",
    "    if gpa >= 3.5:\n",
    "        print(f\"{first_name} {last_name} has made the Dean's List!\")\n",
    "    elif gpa >= 3.25:\n",
    "        print(f\"{first_name} {last_name} has made the Honor Roll!\")\n",
    "    else:\n",
    "        print(f\"{first_name} {last_name} did not qualify for the Dean's List or Honor Roll.\")\n"
   ]
  },
  {
   "cell_type": "code",
   "execution_count": null,
   "id": "7a536e1d-53e1-4953-928b-5b31592997a6",
   "metadata": {},
   "outputs": [],
   "source": []
  }
 ],
 "metadata": {
  "kernelspec": {
   "display_name": "Python [conda env:base] *",
   "language": "python",
   "name": "conda-base-py"
  },
  "language_info": {
   "codemirror_mode": {
    "name": "ipython",
    "version": 3
   },
   "file_extension": ".py",
   "mimetype": "text/x-python",
   "name": "python",
   "nbconvert_exporter": "python",
   "pygments_lexer": "ipython3",
   "version": "3.12.7"
  }
 },
 "nbformat": 4,
 "nbformat_minor": 5
}
